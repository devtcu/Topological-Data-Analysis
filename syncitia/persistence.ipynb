{
 "cells": [
  {
   "cell_type": "code",
   "execution_count": 5,
   "id": "3fe99f23",
   "metadata": {},
   "outputs": [],
   "source": [
    "import pandas as pd \n",
    "import numpy as np"
   ]
  },
  {
   "cell_type": "code",
   "execution_count": 10,
   "id": "08c73d58",
   "metadata": {},
   "outputs": [],
   "source": [
    "df = pd.read_csv('nuclei-coordinates.csv', header=None)\n",
    "coordinates = df.values"
   ]
  },
  {
   "cell_type": "code",
   "execution_count": 13,
   "id": "8dd44384",
   "metadata": {},
   "outputs": [
    {
     "name": "stdout",
     "output_type": "stream",
     "text": [
      "3340\n"
     ]
    }
   ],
   "source": [
    "print(len(coordinates))"
   ]
  },
  {
   "cell_type": "markdown",
   "id": "559b5505",
   "metadata": {},
   "source": [
    "We can do several things from here with our 3000 pair dataset"
   ]
  },
  {
   "cell_type": "code",
   "execution_count": null,
   "id": "65474244",
   "metadata": {},
   "outputs": [],
   "source": []
  }
 ],
 "metadata": {
  "kernelspec": {
   "display_name": ".venv",
   "language": "python",
   "name": "python3"
  },
  "language_info": {
   "codemirror_mode": {
    "name": "ipython",
    "version": 3
   },
   "file_extension": ".py",
   "mimetype": "text/x-python",
   "name": "python",
   "nbconvert_exporter": "python",
   "pygments_lexer": "ipython3",
   "version": "3.9.6"
  }
 },
 "nbformat": 4,
 "nbformat_minor": 5
}
